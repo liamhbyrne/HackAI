{
 "cells": [
  {
   "cell_type": "code",
   "execution_count": null,
   "metadata": {
    "collapsed": true
   },
   "outputs": [],
   "source": []
  },
  {
   "cell_type": "code",
   "execution_count": 3,
   "outputs": [
    {
     "name": "stdout",
     "output_type": "stream",
     "text": [
      "   Unnamed: 0                                        description    end_date  \\\n",
      "0         206  International Gifts & Crafts Show Las Vegas of...  2019-05-07   \n",
      "1          95  India Eduexpos Mumbai is the most anticipated ...  2018-04-09   \n",
      "2          22  The International Conference of German Society...  2018-05-05   \n",
      "3         277  The International Symposium on Computer Archit...  2018-06-06   \n",
      "4         533  The International Academic And Research Confer...  2018-08-11   \n",
      "\n",
      "   exhibitors        lat         lng  \\\n",
      "0         500  36.112880 -115.062394   \n",
      "1          50  19.133432   72.888217   \n",
      "2          -1  52.499609   13.321783   \n",
      "3          50  34.050176 -118.260250   \n",
      "4          50  53.466850   -2.233884   \n",
      "\n",
      "                                            location  \\\n",
      "0  5111 Boulder Hwy, Las Vegas, NV 89122, Las Veg...   \n",
      "1                                      Mumbai, India   \n",
      "2  Lietzenburger Str. 89, 10719 Berlin, Berlin, G...   \n",
      "3  900 Wilshire Blvd, Los Angeles, CA 90017, Los ...   \n",
      "4       Oxford Rd Manchester M13 9PL, Manchester, UK   \n",
      "\n",
      "                                                name  start_date        type  \\\n",
      "0        International Gifts & Crafts Show Las Vegas  2019-05-05  Trade Show   \n",
      "1                              India Eduexpos Mumbai  2018-04-09  Trade Show   \n",
      "2  International Conference of German Society of ...  2018-05-04  Conference   \n",
      "3   International Symposium on Computer Architecture  2018-06-02  Conference   \n",
      "4     International Academic And Research Conference  2018-08-11  Conference   \n",
      "\n",
      "   visitors closest_iata  \n",
      "0    200000          LAS  \n",
      "1    200000          BOM  \n",
      "2    123000          BER  \n",
      "3    123000          LAX  \n",
      "4    123000          MAN  \n"
     ]
    },
    {
     "data": {
      "text/plain": "array([[<AxesSubplot:title={'center':'visitors'}>]], dtype=object)"
     },
     "execution_count": 3,
     "metadata": {},
     "output_type": "execute_result"
    },
    {
     "data": {
      "text/plain": "<Figure size 432x288 with 1 Axes>",
      "image/png": "[encoded data removed]"
     },
     "metadata": {
      "needs_background": "light"
     },
     "output_type": "display_data"
    }
   ],
   "source": [
    "import pandas as pd\n",
    "\n",
    "df = pd.read_csv(\"./final_results.csv\")\n",
    "print(df.head())\n",
    "df.hist(column='visitors')\n",
    "#df.hist(df[\"visitors\"])"
   ],
   "metadata": {
    "collapsed": false,
    "pycharm": {
     "name": "#%%\n"
    }
   }
  },
  {
   "cell_type": "code",
   "execution_count": null,
   "outputs": [],
   "source": [],
   "metadata": {
    "collapsed": false,
    "pycharm": {
     "name": "#%%\n"
    }
   }
  }
 ],
 "metadata": {
  "kernelspec": {
   "display_name": "Python 3",
   "language": "python",
   "name": "python3"
  },
  "language_info": {
   "codemirror_mode": {
    "name": "ipython",
    "version": 2
   },
   "file_extension": ".py",
   "mimetype": "text/x-python",
   "name": "python",
   "nbconvert_exporter": "python",
   "pygments_lexer": "ipython2",
   "version": "2.7.6"
  }
 },
 "nbformat": 4,
 "nbformat_minor": 0
}