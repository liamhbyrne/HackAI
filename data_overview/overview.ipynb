{
 "cells": [
  {
   "cell_type": "markdown",
   "metadata": {
    "collapsed": true,
    "pycharm": {
     "name": "#%% md\n"
    }
   },
   "source": [
    "## HackAI\n",
    "Imports:"
   ]
  },
  {
   "cell_type": "code",
   "execution_count": 30,
   "outputs": [],
   "source": [
    "import pandas as pd\n",
    "import numpy as np\n",
    "import matplotlib.pyplot as plt\n",
    "import seaborn as sns\n",
    "sns.set()"
   ],
   "metadata": {
    "collapsed": false,
    "pycharm": {
     "name": "#%%\n"
    }
   }
  },
  {
   "cell_type": "code",
   "execution_count": 23,
   "outputs": [
    {
     "data": {
      "text/plain": "  origin destination arrival_date return_date  volume\n0    BCN         ATH   2018-01-01  2018-01-01     9.0\n1    BCN         ATH   2018-01-01  2018-01-02     6.0\n2    BCN         ATH   2018-01-01  2018-01-03     3.0\n3    BCN         ATH   2018-01-01  2018-01-04     6.0\n4    BCN         ATH   2018-01-01  2018-01-05     4.0",
      "text/html": "<div>\n<style scoped>\n    .dataframe tbody tr th:only-of-type {\n        vertical-align: middle;\n    }\n\n    .dataframe tbody tr th {\n        vertical-align: top;\n    }\n\n    .dataframe thead th {\n        text-align: right;\n    }\n</style>\n<table border=\"1\" class=\"dataframe\">\n  <thead>\n    <tr style=\"text-align: right;\">\n      <th></th>\n      <th>origin</th>\n      <th>destination</th>\n      <th>arrival_date</th>\n      <th>return_date</th>\n      <th>volume</th>\n    </tr>\n  </thead>\n  <tbody>\n    <tr>\n      <th>0</th>\n      <td>BCN</td>\n      <td>ATH</td>\n      <td>2018-01-01</td>\n      <td>2018-01-01</td>\n      <td>9.0</td>\n    </tr>\n    <tr>\n      <th>1</th>\n      <td>BCN</td>\n      <td>ATH</td>\n      <td>2018-01-01</td>\n      <td>2018-01-02</td>\n      <td>6.0</td>\n    </tr>\n    <tr>\n      <th>2</th>\n      <td>BCN</td>\n      <td>ATH</td>\n      <td>2018-01-01</td>\n      <td>2018-01-03</td>\n      <td>3.0</td>\n    </tr>\n    <tr>\n      <th>3</th>\n      <td>BCN</td>\n      <td>ATH</td>\n      <td>2018-01-01</td>\n      <td>2018-01-04</td>\n      <td>6.0</td>\n    </tr>\n    <tr>\n      <th>4</th>\n      <td>BCN</td>\n      <td>ATH</td>\n      <td>2018-01-01</td>\n      <td>2018-01-05</td>\n      <td>4.0</td>\n    </tr>\n  </tbody>\n</table>\n</div>"
     },
     "execution_count": 23,
     "metadata": {},
     "output_type": "execute_result"
    }
   ],
   "source": [
    "df = pd.read_csv(\"../data/flights_searches.csv\")\n",
    "df.head()"
   ],
   "metadata": {
    "collapsed": false,
    "pycharm": {
     "name": "#%%\n"
    }
   }
  },
  {
   "cell_type": "code",
   "execution_count": 24,
   "outputs": [],
   "source": [
    "df[[\"arrival_date\", \"return_date\"]] = df[[\"arrival_date\", \"return_date\"]].apply(pd.to_datetime)"
   ],
   "metadata": {
    "collapsed": false,
    "pycharm": {
     "name": "#%%\n"
    }
   }
  },
  {
   "cell_type": "code",
   "execution_count": 25,
   "outputs": [
    {
     "data": {
      "text/plain": "  origin destination arrival_date return_date  volume\n0    BCN         ATH   2018-01-01  2018-01-01     9.0\n1    BCN         ATH   2018-01-01  2018-01-02     6.0\n2    BCN         ATH   2018-01-01  2018-01-03     3.0\n3    BCN         ATH   2018-01-01  2018-01-04     6.0\n4    BCN         ATH   2018-01-01  2018-01-05     4.0",
      "text/html": "<div>\n<style scoped>\n    .dataframe tbody tr th:only-of-type {\n        vertical-align: middle;\n    }\n\n    .dataframe tbody tr th {\n        vertical-align: top;\n    }\n\n    .dataframe thead th {\n        text-align: right;\n    }\n</style>\n<table border=\"1\" class=\"dataframe\">\n  <thead>\n    <tr style=\"text-align: right;\">\n      <th></th>\n      <th>origin</th>\n      <th>destination</th>\n      <th>arrival_date</th>\n      <th>return_date</th>\n      <th>volume</th>\n    </tr>\n  </thead>\n  <tbody>\n    <tr>\n      <th>0</th>\n      <td>BCN</td>\n      <td>ATH</td>\n      <td>2018-01-01</td>\n      <td>2018-01-01</td>\n      <td>9.0</td>\n    </tr>\n    <tr>\n      <th>1</th>\n      <td>BCN</td>\n      <td>ATH</td>\n      <td>2018-01-01</td>\n      <td>2018-01-02</td>\n      <td>6.0</td>\n    </tr>\n    <tr>\n      <th>2</th>\n      <td>BCN</td>\n      <td>ATH</td>\n      <td>2018-01-01</td>\n      <td>2018-01-03</td>\n      <td>3.0</td>\n    </tr>\n    <tr>\n      <th>3</th>\n      <td>BCN</td>\n      <td>ATH</td>\n      <td>2018-01-01</td>\n      <td>2018-01-04</td>\n      <td>6.0</td>\n    </tr>\n    <tr>\n      <th>4</th>\n      <td>BCN</td>\n      <td>ATH</td>\n      <td>2018-01-01</td>\n      <td>2018-01-05</td>\n      <td>4.0</td>\n    </tr>\n  </tbody>\n</table>\n</div>"
     },
     "execution_count": 25,
     "metadata": {},
     "output_type": "execute_result"
    }
   ],
   "source": [
    "df.head()"
   ],
   "metadata": {
    "collapsed": false,
    "pycharm": {
     "name": "#%%\n"
    }
   }
  },
  {
   "cell_type": "markdown",
   "source": [
    "### Demand by day between 2 airports\n",
    "The figure below shows the demand on each day between Barcelona and Athens airports"
   ],
   "metadata": {
    "collapsed": false,
    "pycharm": {
     "name": "#%% md\n"
    }
   }
  },
  {
   "cell_type": "code",
   "execution_count": 31,
   "outputs": [
    {
     "data": {
      "text/plain": "[<matplotlib.lines.Line2D at 0x13830cd3760>]"
     },
     "execution_count": 31,
     "metadata": {},
     "output_type": "execute_result"
    },
    {
     "data": {
      "text/plain": "<Figure size 432x288 with 1 Axes>",
      "image/png": "[encoded data removed]"
     },
     "metadata": {},
     "output_type": "display_data"
    }
   ],
   "source": [
    "plt.figure()\n",
    "bcn_to_ath = df.loc[(df['origin'] == \"ROM\") & (df['destination'] == \"BER\") ]\n",
    "x = bcn_to_ath['arrival_date']\n",
    "y1 = bcn_to_ath['volume']\n",
    "plt.plot(x, y1)"
   ],
   "metadata": {
    "collapsed": false,
    "pycharm": {
     "name": "#%%\n"
    }
   }
  }
 ],
 "metadata": {
  "kernelspec": {
   "display_name": "Python 3",
   "language": "python",
   "name": "python3"
  },
  "language_info": {
   "codemirror_mode": {
    "name": "ipython",
    "version": 2
   },
   "file_extension": ".py",
   "mimetype": "text/x-python",
   "name": "python",
   "nbconvert_exporter": "python",
   "pygments_lexer": "ipython2",
   "version": "2.7.6"
  }
 },
 "nbformat": 4,
 "nbformat_minor": 0
}